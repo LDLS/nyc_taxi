{
 "cells": [
  {
   "cell_type": "markdown",
   "metadata": {},
   "source": [
    "# Workspace setup"
   ]
  },
  {
   "cell_type": "code",
   "execution_count": 1,
   "metadata": {},
   "outputs": [],
   "source": [
    "import os\n",
    "import urllib\n",
    "import zipfile\n",
    "import itertools\n",
    "import gc\n",
    "from pathlib import Path\n",
    "import numpy as np\n",
    "import pandas as pd\n",
    "from scipy import stats\n",
    "import dask.array as da\n",
    "import dask.dataframe as dd\n",
    "from dask.diagnostics import ProgressBar\n",
    "import shapefile\n",
    "from shapely.geometry import Polygon\n",
    "from descartes.patch import PolygonPatch\n",
    "from matplotlib import pyplot as plt\n",
    "from matplotlib import style\n",
    "import seaborn as sns\n",
    "style.use('ggplot')\n",
    "\n",
    "PARENT_DIR = Path().resolve().parents[0] \n",
    "DATA_DIR = PARENT_DIR / 'data'\n",
    "DATA_URL = 'https://s3.amazonaws.com/nyc-tlc/trip+data/'\n",
    "\n",
    "companies = ['yellow_trip']\n",
    "data_suffix = 'data'\n",
    "years = ['2017']\n",
    "months = ['03', '06', '11']\n",
    "dates = ['-'.join([y,m]) for y, m in itertools.product(years, months)]\n",
    "\n",
    "taxi_data_csv_names = [c + data_suffix + '_' + d + '.csv' for c, d in itertools.product(companies, dates)]\n",
    "taxi_data_pattern = DATA_DIR / (r'*data_*-*.csv')\n",
    "csv_urls = [DATA_URL + f for f in taxi_data_csv_names]\n",
    "csv_files = [DATA_DIR / f for f in taxi_data_csv_names]\n",
    "csv_dict = dict(zip(taxi_data_csv_names, zip(csv_urls, csv_files)))\n",
    "parquet_name = DATA_DIR / 'yellow_tripdata_2017-030611.parquet'\n",
    "\n",
    "lookup_name = DATA_DIR / 'taxi_zone_lookup.csv'\n",
    "shapefile_name = DATA_DIR / 'taxi_zones.zip'\n",
    "\n",
    "numerical_cols = ['passenger_count', 'trip_distance', 'fare_amount',\n",
    "                  'extra', 'mta_tax', 'tip_amount', 'tolls_amount', \n",
    "                  'improvement_surcharge', 'total_amount']\n",
    "\n",
    "categorical_cols = ['VendorID', 'RatecodeID',\n",
    "                    'store_and_fwd_flag', 'payment_type']\n",
    "\n",
    "location_cols = ['PULocationID', 'DOLocationID']\n",
    "\n",
    "datetime_cols = ['tpep_pickup_datetime', 'tpep_dropoff_datetime']"
   ]
  },
  {
   "cell_type": "markdown",
   "metadata": {},
   "source": [
    "# Downloading data"
   ]
  },
  {
   "cell_type": "code",
   "execution_count": 2,
   "metadata": {},
   "outputs": [],
   "source": [
    "def dwnld_data(csv_name):\n",
    "    ''' Downloads file from the url and save it as filename '''\n",
    "    # check if file already exists\n",
    "    url, filename = csv_dict[csv_name]\n",
    "    if not filename.exists():\n",
    "        print(f'Downloading {csv_name}')\n",
    "        urllib.request.urlretrieve(url, filename)\n",
    "    else:\n",
    "        print(f'{csv_name} exists')\n",
    "\n",
    "def dwnl_location_lookup():\n",
    "    url = 'https://s3.amazonaws.com/nyc-tlc/misc/taxi+_zone_lookup.csv'\n",
    "    filename = lookup_name\n",
    "    if not filename.exists():\n",
    "        print('Downloading lookup table')\n",
    "        urllib.request.urlretrieve(url, filename)\n",
    "    else:\n",
    "        print('Lookup table exists')\n",
    "\n",
    "def dwnl_extract_shapefiles():\n",
    "    url = 'https://s3.amazonaws.com/nyc-tlc/misc/taxi_zones.zip'\n",
    "    filename = shapefile_name\n",
    "    base_dir = DATA_DIR\n",
    "    if not filename.exists():\n",
    "        print('Downloading shapefiles')\n",
    "        urllib.request.urlretrieve(url, filename)\n",
    "    else:\n",
    "        print('Shapefile exists')\n",
    "    print('Extracting shapefile')\n",
    "    filezip = zipfile.ZipFile(filename, 'r')\n",
    "    filezip.extractall(base_dir)"
   ]
  },
  {
   "cell_type": "code",
   "execution_count": 3,
   "metadata": {},
   "outputs": [
    {
     "name": "stdout",
     "output_type": "stream",
     "text": [
      "yellow_tripdata_2017-03.csv exists\n",
      "yellow_tripdata_2017-06.csv exists\n",
      "yellow_tripdata_2017-11.csv exists\n",
      "Lookup table exists\n",
      "Shapefile exists\n",
      "Extracting shapefile\n",
      "CPU times: user 30.2 ms, sys: 9.41 ms, total: 39.6 ms\n",
      "Wall time: 57.2 ms\n"
     ]
    }
   ],
   "source": [
    "%%time\n",
    "for f in taxi_data_csv_names:\n",
    "    dwnld_data(f)\n",
    "\n",
    "dwnl_location_lookup()\n",
    "dwnl_extract_shapefiles()"
   ]
  },
  {
   "cell_type": "markdown",
   "metadata": {},
   "source": [
    "# Optimizing data IO\n",
    "Dask reads (and concatenates) data sources from "
   ]
  },
  {
   "cell_type": "code",
   "execution_count": 4,
   "metadata": {},
   "outputs": [],
   "source": [
    "def write_parquet():\n",
    "    df = dd.read_csv(taxi_data_pattern, delimiter=',')\n",
    "    df_initial_n_rows = df.shape[0]\n",
    "\n",
    "    # Drop rows with all entries equal to NAN\n",
    "    df = df.dropna('all')\n",
    "\n",
    "    df.store_and_fwd_flag = df.store_and_fwd_flag.replace({'Y': 1, 'N': 0})\n",
    "    df[categorical_cols] = df[categorical_cols].astype('uint8')\n",
    "    df[location_cols] = df[location_cols].astype('uint16')\n",
    "    df[datetime_cols] = df[datetime_cols].astype('M8[us]')\n",
    "    df[numerical_cols] = df[numerical_cols].astype('float32')\n",
    "    df.passenger_count = df.passenger_count.astype('uint8')\n",
    "    \n",
    "    if not parquet_name.exists():\n",
    "        print('Saving parquet file')\n",
    "        with ProgressBar():\n",
    "            df.to_parquet(parquet_name, compression='snappy')\n",
    "    else:\n",
    "        print('Parquet file already exists')"
   ]
  },
  {
   "cell_type": "markdown",
   "metadata": {},
   "source": [
    "* Will start by discarding anomalous data records (we will explore them below)"
   ]
  },
  {
   "cell_type": "code",
   "execution_count": 5,
   "metadata": {},
   "outputs": [
    {
     "name": "stdout",
     "output_type": "stream",
     "text": [
      "Parquet file already exists\n"
     ]
    }
   ],
   "source": [
    "write_parquet()"
   ]
  },
  {
   "cell_type": "code",
   "execution_count": 6,
   "metadata": {},
   "outputs": [],
   "source": [
    "def load_data(filter_anomalous=True):\n",
    "    df = dd.read_parquet(parquet_name)\n",
    "    if filter_anomalous:\n",
    "        filter_zero_fare = df.fare_amount == 0\n",
    "        df_zero_fare = df.loc[filter_zero_fare]\n",
    "        \n",
    "        # Change it to anomalous by schema\n",
    "        filter_neg_num = (df[numerical_cols] < 0).any(axis=1)\n",
    "        df_neg = df.loc[filter_neg_num]\n",
    "\n",
    "        df = df.loc[~(filter_neg_num | filter_zero_fare)]\n",
    "        df = df.reset_index(drop=True)\n",
    "        \n",
    "        return df, df_zero_fare, df_neg\n",
    "    else: return df"
   ]
  },
  {
   "cell_type": "code",
   "execution_count": 7,
   "metadata": {},
   "outputs": [],
   "source": [
    "%%time\n",
    "df, df_zero_fare, df_neg = load_data()"
   ]
  },
  {
   "cell_type": "code",
   "execution_count": 8,
   "metadata": {},
   "outputs": [
    {
     "name": "stdout",
     "output_type": "stream",
     "text": [
      "[########################################] | 100% Completed |  0.3s\n"
     ]
    },
    {
     "data": {
      "text/html": [
       "<div>\n",
       "<style scoped>\n",
       "    .dataframe tbody tr th:only-of-type {\n",
       "        vertical-align: middle;\n",
       "    }\n",
       "\n",
       "    .dataframe tbody tr th {\n",
       "        vertical-align: top;\n",
       "    }\n",
       "\n",
       "    .dataframe thead th {\n",
       "        text-align: right;\n",
       "    }\n",
       "</style>\n",
       "<table border=\"1\" class=\"dataframe\">\n",
       "  <thead>\n",
       "    <tr style=\"text-align: right;\">\n",
       "      <th></th>\n",
       "      <th>VendorID</th>\n",
       "      <th>tpep_pickup_datetime</th>\n",
       "      <th>tpep_dropoff_datetime</th>\n",
       "      <th>passenger_count</th>\n",
       "      <th>trip_distance</th>\n",
       "      <th>RatecodeID</th>\n",
       "      <th>store_and_fwd_flag</th>\n",
       "      <th>PULocationID</th>\n",
       "      <th>DOLocationID</th>\n",
       "      <th>payment_type</th>\n",
       "      <th>fare_amount</th>\n",
       "      <th>extra</th>\n",
       "      <th>mta_tax</th>\n",
       "      <th>tip_amount</th>\n",
       "      <th>tolls_amount</th>\n",
       "      <th>improvement_surcharge</th>\n",
       "      <th>total_amount</th>\n",
       "    </tr>\n",
       "  </thead>\n",
       "  <tbody>\n",
       "    <tr>\n",
       "      <th>0</th>\n",
       "      <td>2</td>\n",
       "      <td>2017-03-09 21:30:11</td>\n",
       "      <td>2017-03-09 21:44:20</td>\n",
       "      <td>1</td>\n",
       "      <td>4.06</td>\n",
       "      <td>1</td>\n",
       "      <td>0</td>\n",
       "      <td>148</td>\n",
       "      <td>48</td>\n",
       "      <td>1</td>\n",
       "      <td>14.0</td>\n",
       "      <td>0.5</td>\n",
       "      <td>0.5</td>\n",
       "      <td>3.06</td>\n",
       "      <td>0.0</td>\n",
       "      <td>0.3</td>\n",
       "      <td>18.360001</td>\n",
       "    </tr>\n",
       "    <tr>\n",
       "      <th>1</th>\n",
       "      <td>2</td>\n",
       "      <td>2017-03-09 21:47:00</td>\n",
       "      <td>2017-03-09 21:58:01</td>\n",
       "      <td>1</td>\n",
       "      <td>2.73</td>\n",
       "      <td>1</td>\n",
       "      <td>0</td>\n",
       "      <td>48</td>\n",
       "      <td>107</td>\n",
       "      <td>2</td>\n",
       "      <td>11.5</td>\n",
       "      <td>0.5</td>\n",
       "      <td>0.5</td>\n",
       "      <td>0.00</td>\n",
       "      <td>0.0</td>\n",
       "      <td>0.3</td>\n",
       "      <td>12.800000</td>\n",
       "    </tr>\n",
       "    <tr>\n",
       "      <th>2</th>\n",
       "      <td>2</td>\n",
       "      <td>2017-03-09 22:01:08</td>\n",
       "      <td>2017-03-09 22:11:16</td>\n",
       "      <td>1</td>\n",
       "      <td>2.27</td>\n",
       "      <td>1</td>\n",
       "      <td>0</td>\n",
       "      <td>79</td>\n",
       "      <td>162</td>\n",
       "      <td>1</td>\n",
       "      <td>10.0</td>\n",
       "      <td>0.5</td>\n",
       "      <td>0.5</td>\n",
       "      <td>2.82</td>\n",
       "      <td>0.0</td>\n",
       "      <td>0.3</td>\n",
       "      <td>14.120000</td>\n",
       "    </tr>\n",
       "    <tr>\n",
       "      <th>3</th>\n",
       "      <td>2</td>\n",
       "      <td>2017-03-09 22:16:05</td>\n",
       "      <td>2017-03-10 06:26:11</td>\n",
       "      <td>1</td>\n",
       "      <td>3.86</td>\n",
       "      <td>1</td>\n",
       "      <td>0</td>\n",
       "      <td>237</td>\n",
       "      <td>41</td>\n",
       "      <td>1</td>\n",
       "      <td>12.0</td>\n",
       "      <td>0.5</td>\n",
       "      <td>0.5</td>\n",
       "      <td>3.99</td>\n",
       "      <td>0.0</td>\n",
       "      <td>0.3</td>\n",
       "      <td>17.290001</td>\n",
       "    </tr>\n",
       "    <tr>\n",
       "      <th>4</th>\n",
       "      <td>2</td>\n",
       "      <td>2017-03-31 06:31:53</td>\n",
       "      <td>2017-03-31 06:41:48</td>\n",
       "      <td>1</td>\n",
       "      <td>3.45</td>\n",
       "      <td>1</td>\n",
       "      <td>0</td>\n",
       "      <td>41</td>\n",
       "      <td>162</td>\n",
       "      <td>2</td>\n",
       "      <td>12.0</td>\n",
       "      <td>0.5</td>\n",
       "      <td>0.5</td>\n",
       "      <td>0.00</td>\n",
       "      <td>0.0</td>\n",
       "      <td>0.3</td>\n",
       "      <td>13.300000</td>\n",
       "    </tr>\n",
       "  </tbody>\n",
       "</table>\n",
       "</div>"
      ],
      "text/plain": [
       "   VendorID tpep_pickup_datetime tpep_dropoff_datetime  passenger_count  \\\n",
       "0         2  2017-03-09 21:30:11   2017-03-09 21:44:20                1   \n",
       "1         2  2017-03-09 21:47:00   2017-03-09 21:58:01                1   \n",
       "2         2  2017-03-09 22:01:08   2017-03-09 22:11:16                1   \n",
       "3         2  2017-03-09 22:16:05   2017-03-10 06:26:11                1   \n",
       "4         2  2017-03-31 06:31:53   2017-03-31 06:41:48                1   \n",
       "\n",
       "   trip_distance  RatecodeID  store_and_fwd_flag  PULocationID  DOLocationID  \\\n",
       "0           4.06           1                   0           148            48   \n",
       "1           2.73           1                   0            48           107   \n",
       "2           2.27           1                   0            79           162   \n",
       "3           3.86           1                   0           237            41   \n",
       "4           3.45           1                   0            41           162   \n",
       "\n",
       "   payment_type  fare_amount  extra  mta_tax  tip_amount  tolls_amount  \\\n",
       "0             1         14.0    0.5      0.5        3.06           0.0   \n",
       "1             2         11.5    0.5      0.5        0.00           0.0   \n",
       "2             1         10.0    0.5      0.5        2.82           0.0   \n",
       "3             1         12.0    0.5      0.5        3.99           0.0   \n",
       "4             2         12.0    0.5      0.5        0.00           0.0   \n",
       "\n",
       "   improvement_surcharge  total_amount  \n",
       "0                    0.3     18.360001  \n",
       "1                    0.3     12.800000  \n",
       "2                    0.3     14.120000  \n",
       "3                    0.3     17.290001  \n",
       "4                    0.3     13.300000  "
      ]
     },
     "metadata": {},
     "output_type": "display_data"
    }
   ],
   "source": [
    "with ProgressBar():\n",
    "    display(df.head())\n",
    "gc.collect();"
   ]
  },
  {
   "cell_type": "code",
   "execution_count": 10,
   "metadata": {},
   "outputs": [
    {
     "name": "stdout",
     "output_type": "stream",
     "text": [
      "[########################################] | 100% Completed |  3.3s\n",
      "[########################################] | 100% Completed |  3.5s\n",
      "[########################################] | 100% Completed |  2.4s\n",
      "[########################################] | 100% Completed |  2.0s\n",
      "Data shape: 29,213,507 rows and 17 columns\n",
      "Keeping 99.92% of the data\n",
      "\tRows with NAN entries: 0\n",
      "\tRows with fare equal zero: 8,840\n",
      "\tRows with negative numerical data: 14,078\n"
     ]
    }
   ],
   "source": [
    "df_n_cols = df.shape[1]\n",
    "df_n_rows = df.shape[0]\n",
    "\n",
    "df_nans_any = df.isna().any(axis=1)\n",
    "df_nans_any_n_rows = df_nans_any.sum()\n",
    "\n",
    "df_zero_fare_n_rows = df_zero_fare.shape[0]\n",
    "df_neg_n_rows = df_neg.shape[0]\n",
    "\n",
    "with ProgressBar():\n",
    "    df_n_rows = df_n_rows.compute()\n",
    "    df_nans_any_n_rows = df_nans_any_n_rows.compute()\n",
    "    df_neg_n_rows = df_neg_n_rows.compute()\n",
    "    df_zero_fare_n_rows = df_zero_fare_n_rows.compute()\n",
    "\n",
    "df_initial_n_rows = (df_n_rows + df_nans_any_n_rows + df_neg_n_rows + df_zero_fare_n_rows)\n",
    "kept_rows_ratio = df_n_rows/df_initial_n_rows\n",
    "\n",
    "print(f'Data shape: {df_n_rows:,} rows and {df_n_cols} columns')\n",
    "print(f'Keeping {kept_rows_ratio:.2%} of the data')\n",
    "print(f'\\tRows with NAN entries: {df_nans_any_n_rows:,}')\n",
    "print(f'\\tRows with fare equal zero: {df_zero_fare_n_rows:,}')\n",
    "print(f'\\tRows with negative numerical data: {df_neg_n_rows:,}')\n",
    "gc.collect();"
   ]
  },
  {
   "cell_type": "markdown",
   "metadata": {},
   "source": [
    "# Exploration of numerical variables\n",
    "\n",
    "We start the analysis of numerical variables by looking at a high level description of the numerical data.\n",
    "\n",
    "5 and 95 percentiles cut-offs values are included to better asses the presence of otliers."
   ]
  },
  {
   "cell_type": "code",
   "execution_count": 13,
   "metadata": {},
   "outputs": [
    {
     "name": "stdout",
     "output_type": "stream",
     "text": [
      "[########################################] | 100% Completed |  7.0s\n"
     ]
    },
    {
     "data": {
      "text/html": [
       "<div>\n",
       "<style scoped>\n",
       "    .dataframe tbody tr th:only-of-type {\n",
       "        vertical-align: middle;\n",
       "    }\n",
       "\n",
       "    .dataframe tbody tr th {\n",
       "        vertical-align: top;\n",
       "    }\n",
       "\n",
       "    .dataframe thead th {\n",
       "        text-align: right;\n",
       "    }\n",
       "</style>\n",
       "<table border=\"1\" class=\"dataframe\">\n",
       "  <thead>\n",
       "    <tr style=\"text-align: right;\">\n",
       "      <th></th>\n",
       "      <th>count</th>\n",
       "      <th>mean</th>\n",
       "      <th>std</th>\n",
       "      <th>min</th>\n",
       "      <th>1%</th>\n",
       "      <th>25%</th>\n",
       "      <th>50%</th>\n",
       "      <th>75%</th>\n",
       "      <th>90%</th>\n",
       "      <th>91%</th>\n",
       "      <th>99%</th>\n",
       "      <th>max</th>\n",
       "    </tr>\n",
       "  </thead>\n",
       "  <tbody>\n",
       "    <tr>\n",
       "      <th>passenger_count</th>\n",
       "      <td>29213507.0</td>\n",
       "      <td>1.617754</td>\n",
       "      <td>1.260941</td>\n",
       "      <td>0.00</td>\n",
       "      <td>1.00</td>\n",
       "      <td>1.00</td>\n",
       "      <td>1.00</td>\n",
       "      <td>2.000000</td>\n",
       "      <td>4.000000</td>\n",
       "      <td>5.000000</td>\n",
       "      <td>6.000000</td>\n",
       "      <td>192.000000</td>\n",
       "    </tr>\n",
       "    <tr>\n",
       "      <th>trip_distance</th>\n",
       "      <td>29213507.0</td>\n",
       "      <td>2.920356</td>\n",
       "      <td>4.474431</td>\n",
       "      <td>0.00</td>\n",
       "      <td>0.22</td>\n",
       "      <td>1.06</td>\n",
       "      <td>1.81</td>\n",
       "      <td>3.470000</td>\n",
       "      <td>7.690000</td>\n",
       "      <td>8.840000</td>\n",
       "      <td>19.757900</td>\n",
       "      <td>9496.980469</td>\n",
       "    </tr>\n",
       "    <tr>\n",
       "      <th>fare_amount</th>\n",
       "      <td>29213507.0</td>\n",
       "      <td>13.122061</td>\n",
       "      <td>147.290085</td>\n",
       "      <td>0.01</td>\n",
       "      <td>3.50</td>\n",
       "      <td>7.50</td>\n",
       "      <td>11.00</td>\n",
       "      <td>18.500000</td>\n",
       "      <td>27.500000</td>\n",
       "      <td>33.000000</td>\n",
       "      <td>56.000000</td>\n",
       "      <td>630461.812500</td>\n",
       "    </tr>\n",
       "    <tr>\n",
       "      <th>extra</th>\n",
       "      <td>29213507.0</td>\n",
       "      <td>0.334398</td>\n",
       "      <td>0.460525</td>\n",
       "      <td>0.00</td>\n",
       "      <td>0.00</td>\n",
       "      <td>0.00</td>\n",
       "      <td>0.50</td>\n",
       "      <td>0.500000</td>\n",
       "      <td>1.000000</td>\n",
       "      <td>1.000000</td>\n",
       "      <td>1.000000</td>\n",
       "      <td>69.800003</td>\n",
       "    </tr>\n",
       "    <tr>\n",
       "      <th>mta_tax</th>\n",
       "      <td>29213507.0</td>\n",
       "      <td>0.497883</td>\n",
       "      <td>0.034284</td>\n",
       "      <td>0.00</td>\n",
       "      <td>0.50</td>\n",
       "      <td>0.50</td>\n",
       "      <td>0.50</td>\n",
       "      <td>0.500000</td>\n",
       "      <td>0.500000</td>\n",
       "      <td>0.500000</td>\n",
       "      <td>0.500000</td>\n",
       "      <td>53.799999</td>\n",
       "    </tr>\n",
       "    <tr>\n",
       "      <th>tip_amount</th>\n",
       "      <td>29213507.0</td>\n",
       "      <td>1.874773</td>\n",
       "      <td>2.631154</td>\n",
       "      <td>0.00</td>\n",
       "      <td>0.00</td>\n",
       "      <td>0.00</td>\n",
       "      <td>1.55</td>\n",
       "      <td>2.960000</td>\n",
       "      <td>4.650000</td>\n",
       "      <td>5.460000</td>\n",
       "      <td>13.170000</td>\n",
       "      <td>450.000000</td>\n",
       "    </tr>\n",
       "    <tr>\n",
       "      <th>tolls_amount</th>\n",
       "      <td>29213507.0</td>\n",
       "      <td>0.328758</td>\n",
       "      <td>1.956725</td>\n",
       "      <td>0.00</td>\n",
       "      <td>0.00</td>\n",
       "      <td>0.00</td>\n",
       "      <td>0.00</td>\n",
       "      <td>0.000000</td>\n",
       "      <td>0.000000</td>\n",
       "      <td>0.000000</td>\n",
       "      <td>5.760000</td>\n",
       "      <td>1018.950012</td>\n",
       "    </tr>\n",
       "    <tr>\n",
       "      <th>improvement_surcharge</th>\n",
       "      <td>29213507.0</td>\n",
       "      <td>0.299956</td>\n",
       "      <td>0.003728</td>\n",
       "      <td>0.00</td>\n",
       "      <td>0.30</td>\n",
       "      <td>0.30</td>\n",
       "      <td>0.30</td>\n",
       "      <td>0.300000</td>\n",
       "      <td>0.300000</td>\n",
       "      <td>0.300000</td>\n",
       "      <td>0.300000</td>\n",
       "      <td>1.000000</td>\n",
       "    </tr>\n",
       "    <tr>\n",
       "      <th>total_amount</th>\n",
       "      <td>29213507.0</td>\n",
       "      <td>16.461704</td>\n",
       "      <td>147.532593</td>\n",
       "      <td>0.01</td>\n",
       "      <td>4.80</td>\n",
       "      <td>9.36</td>\n",
       "      <td>14.12</td>\n",
       "      <td>22.299999</td>\n",
       "      <td>34.299999</td>\n",
       "      <td>40.560001</td>\n",
       "      <td>75.410004</td>\n",
       "      <td>630463.125000</td>\n",
       "    </tr>\n",
       "  </tbody>\n",
       "</table>\n",
       "</div>"
      ],
      "text/plain": [
       "                            count       mean         std   min    1%   25%  \\\n",
       "passenger_count        29213507.0   1.617754    1.260941  0.00  1.00  1.00   \n",
       "trip_distance          29213507.0   2.920356    4.474431  0.00  0.22  1.06   \n",
       "fare_amount            29213507.0  13.122061  147.290085  0.01  3.50  7.50   \n",
       "extra                  29213507.0   0.334398    0.460525  0.00  0.00  0.00   \n",
       "mta_tax                29213507.0   0.497883    0.034284  0.00  0.50  0.50   \n",
       "tip_amount             29213507.0   1.874773    2.631154  0.00  0.00  0.00   \n",
       "tolls_amount           29213507.0   0.328758    1.956725  0.00  0.00  0.00   \n",
       "improvement_surcharge  29213507.0   0.299956    0.003728  0.00  0.30  0.30   \n",
       "total_amount           29213507.0  16.461704  147.532593  0.01  4.80  9.36   \n",
       "\n",
       "                         50%        75%        90%        91%        99%  \\\n",
       "passenger_count         1.00   2.000000   4.000000   5.000000   6.000000   \n",
       "trip_distance           1.81   3.470000   7.690000   8.840000  19.757900   \n",
       "fare_amount            11.00  18.500000  27.500000  33.000000  56.000000   \n",
       "extra                   0.50   0.500000   1.000000   1.000000   1.000000   \n",
       "mta_tax                 0.50   0.500000   0.500000   0.500000   0.500000   \n",
       "tip_amount              1.55   2.960000   4.650000   5.460000  13.170000   \n",
       "tolls_amount            0.00   0.000000   0.000000   0.000000   5.760000   \n",
       "improvement_surcharge   0.30   0.300000   0.300000   0.300000   0.300000   \n",
       "total_amount           14.12  22.299999  34.299999  40.560001  75.410004   \n",
       "\n",
       "                                 max  \n",
       "passenger_count           192.000000  \n",
       "trip_distance            9496.980469  \n",
       "fare_amount            630461.812500  \n",
       "extra                      69.800003  \n",
       "mta_tax                    53.799999  \n",
       "tip_amount                450.000000  \n",
       "tolls_amount             1018.950012  \n",
       "improvement_surcharge       1.000000  \n",
       "total_amount           630463.125000  "
      ]
     },
     "execution_count": 13,
     "metadata": {},
     "output_type": "execute_result"
    }
   ],
   "source": [
    "df_num_description = df[numerical_cols].describe(percentiles = [.01, 0.9,\n",
    "                                                                .25, .5, .75,\n",
    "                                                                .91, .99])\n",
    "with ProgressBar():\n",
    "    df_num_description = df_num_description.compute()\n",
    "gc.collect();\n",
    "df_num_description.T"
   ]
  },
  {
   "cell_type": "markdown",
   "metadata": {},
   "source": [
    "There are clear outliers in the data. Some of these are clearly errors:\n",
    "\n",
    "* 192 passengers\n",
    "* ~9,500 mile trip  (almost 3 times the coast to coast distance in the US)\n",
    "* \\> half a million dollar trip\n",
    "\n",
    "Others seem realistic, yet might be correlated to these. We"
   ]
  },
  {
   "cell_type": "code",
   "execution_count": 12,
   "metadata": {},
   "outputs": [
    {
     "name": "stdout",
     "output_type": "stream",
     "text": [
      "[########################################] | 100% Completed |  3.2s\n"
     ]
    },
    {
     "data": {
      "image/png": "[encoded data removed]",
      "text/plain": [
       "<Figure size 432x288 with 1 Axes>"
      ]
     },
     "metadata": {},
     "output_type": "display_data"
    }
   ],
   "source": [
    "passenger_count_hist = df.groupby('passenger_count').size()\n",
    "with ProgressBar():\n",
    "    passenger_count_hist = passenger_count_hist.compute()\n",
    "\n",
    "passenger_count_hist.sort_index().plot(kind='bar');"
   ]
  },
  {
   "cell_type": "code",
   "execution_count": 20,
   "metadata": {},
   "outputs": [
    {
     "name": "stdout",
     "output_type": "stream",
     "text": [
      "[########################################] | 100% Completed |  3.4s\n"
     ]
    },
    {
     "data": {
      "image/png": "[encoded data removed]",
      "text/plain": [
       "<Figure size 432x288 with 1 Axes>"
      ]
     },
     "metadata": {},
     "output_type": "display_data"
    }
   ],
   "source": [
    "fare_99pct = df_num_description.fare_amount.loc['99%']\n",
    "fare_counts, fare_bins  = da.histogram(df.fare_amount.values, bins=250, range=[0, fare_99pct])\n",
    "fare_width = 0.7 * (fare_bins[1] - fare_bins[0])\n",
    "fare_bins_center = (fare_bins[:-1] + fare_bins[1:]) / 2\n",
    "\n",
    "with ProgressBar():\n",
    "    fare_counts = fare_counts.compute()\n",
    "\n",
    "plt.bar(fare_bins_center, fare_counts, align='center', width=fare_width);"
   ]
  },
  {
   "cell_type": "code",
   "execution_count": 25,
   "metadata": {},
   "outputs": [
    {
     "name": "stdout",
     "output_type": "stream",
     "text": [
      "[########################################] | 100% Completed |  3.3s\n"
     ]
    }
   ],
   "source": [
    "df_tolls_counts, df_tolls_bins  = da.histogram(df.tolls_amount.values, bins=100, range=[0, 20])\n",
    "tolls_width = 0.7 * (df_tolls_bins[1] - df_tolls_bins[0])\n",
    "tolls_center = (df_tolls_bins[:-1] + df_tolls_bins[1:]) / 2\n",
    "\n",
    "with ProgressBar():\n",
    "    df_tolls_counts = df_tolls_counts.compute()"
   ]
  },
  {
   "cell_type": "code",
   "execution_count": 26,
   "metadata": {},
   "outputs": [
    {
     "data": {
      "image/png": "[encoded data removed]",
      "text/plain": [
       "<Figure size 432x288 with 1 Axes>"
      ]
     },
     "metadata": {},
     "output_type": "display_data"
    }
   ],
   "source": [
    "plt.bar(tolls_center, df_tolls_counts, align='center', width=width);"
   ]
  },
  {
   "cell_type": "code",
   "execution_count": 67,
   "metadata": {},
   "outputs": [],
   "source": [
    "numerical_cols\n",
    "df_num = df[]\n",
    "df_num_p9 = df_num.quantile(0.25)\n",
    "df_num_q3 = df_num.quantile(0.75)\n",
    "df_num_iqr = df_num_q3 - df_num_q1\n",
    "filter_num_outlier = ((df_num < (df_num_q1 - 1.5*df_num_iqr)) |\n",
    "                      (df_num > (df_num_q3 + 1.5*df_num_iqr)))"
   ]
  },
  {
   "cell_type": "code",
   "execution_count": 72,
   "metadata": {},
   "outputs": [
    {
     "data": {
      "text/plain": [
       "2795206"
      ]
     },
     "execution_count": 72,
     "metadata": {},
     "output_type": "execute_result"
    }
   ],
   "source": [
    "filter_num_outlier.passenger_count.sum().compute()"
   ]
  },
  {
   "cell_type": "code",
   "execution_count": 71,
   "metadata": {},
   "outputs": [
    {
     "data": {
      "text/plain": [
       "2795206"
      ]
     },
     "execution_count": 71,
     "metadata": {},
     "output_type": "execute_result"
    }
   ],
   "source": [
    "df[filter_num_outlier.passenger_count].shape[0].compute()"
   ]
  },
  {
   "cell_type": "code",
   "execution_count": 57,
   "metadata": {},
   "outputs": [
    {
     "name": "stdout",
     "output_type": "stream",
     "text": [
      "[########################################] | 100% Completed |  1min  7.2s\n",
      "[########################################] | 100% Completed |  1min  2.6s\n",
      "[########################################] | 100% Completed |  1min  4.1s\n"
     ]
    }
   ],
   "source": [
    "with ProgressBar():\n",
    "    df_num_q1 = df_num_q1.compute()\n",
    "    df_num_q3 = df_num_q3.compute()\n",
    "    df_num_iqr = df_num_iqr.compute()"
   ]
  },
  {
   "cell_type": "code",
   "execution_count": 64,
   "metadata": {},
   "outputs": [
    {
     "data": {
      "text/plain": [
       "passenger_count           1.00\n",
       "trip_distance             2.41\n",
       "fare_amount              11.00\n",
       "extra                     0.50\n",
       "mta_tax                   0.00\n",
       "tip_amount                2.96\n",
       "tolls_amount              0.00\n",
       "improvement_surcharge     0.00\n",
       "total_amount             12.94\n",
       "dtype: float64"
      ]
     },
     "execution_count": 64,
     "metadata": {},
     "output_type": "execute_result"
    }
   ],
   "source": [
    "df_num_iqr"
   ]
  },
  {
   "cell_type": "code",
   "execution_count": 65,
   "metadata": {},
   "outputs": [
    {
     "data": {
      "text/plain": [
       "passenger_count          0.0\n",
       "trip_distance            0.0\n",
       "fare_amount              0.0\n",
       "extra                    0.0\n",
       "mta_tax                  0.5\n",
       "tip_amount               0.0\n",
       "tolls_amount             0.0\n",
       "improvement_surcharge    0.3\n",
       "total_amount             0.0\n",
       "dtype: float64"
      ]
     },
     "execution_count": 65,
     "metadata": {},
     "output_type": "execute_result"
    }
   ],
   "source": [
    "(df_num_q1 - 1.5*df_num_iqr).clip(0)"
   ]
  },
  {
   "cell_type": "code",
   "execution_count": 66,
   "metadata": {},
   "outputs": [
    {
     "data": {
      "text/plain": [
       "passenger_count           2.000000\n",
       "trip_distance             3.470000\n",
       "fare_amount              18.500000\n",
       "extra                     1.000000\n",
       "mta_tax                   0.500000\n",
       "tip_amount                2.960000\n",
       "tolls_amount              0.000000\n",
       "improvement_surcharge     0.300000\n",
       "total_amount             22.299999\n",
       "Name: 0.75, dtype: float64"
      ]
     },
     "execution_count": 66,
     "metadata": {},
     "output_type": "execute_result"
    }
   ],
   "source": [
    "df_num_q3"
   ]
  },
  {
   "cell_type": "code",
   "execution_count": 62,
   "metadata": {},
   "outputs": [
    {
     "data": {
      "text/plain": [
       "passenger_count           3.700000\n",
       "trip_distance             7.567000\n",
       "fare_amount              37.200000\n",
       "extra                     1.850000\n",
       "mta_tax                   0.500000\n",
       "tip_amount                7.992000\n",
       "tolls_amount              0.000000\n",
       "improvement_surcharge     0.300000\n",
       "total_amount             44.297999\n",
       "dtype: float64"
      ]
     },
     "execution_count": 62,
     "metadata": {},
     "output_type": "execute_result"
    }
   ],
   "source": [
    "df_num_q3 + 1.7*df_num_iqr"
   ]
  },
  {
   "cell_type": "markdown",
   "metadata": {},
   "source": [
    "##  Data istances with anomalous numerical variables (filtered out)\n",
    "\n",
    "We will explore rows with negative numerical values or zero fare amount that were discarded from the data. \n",
    "\n",
    "Since the count of these trips is very small relative to the whole data set, it is a good idea to drop them to decrease sources of noise.\n",
    "\n",
    "### Negative charges\n",
    "\n",
    "These rows have been regarded as anomalous from the start of the analysis. \n",
    "They might have been recorded in the database to display a refund due to a variety of reasons like disputes, cancellations, incorrect charges, etc.\n",
    "\n",
    "To back up this hypothesis we will dispay the payment type distribution and a scatter plot of distance vs trip duration in minutes.\n",
    "\n",
    "As these isntances are relatively small, we can handle the analysis in memory."
   ]
  },
  {
   "cell_type": "code",
   "execution_count": 27,
   "metadata": {},
   "outputs": [
    {
     "name": "stdout",
     "output_type": "stream",
     "text": [
      "[########################################] | 100% Completed |  2.2s\n",
      "[########################################] | 100% Completed |  1.9s\n"
     ]
    }
   ],
   "source": [
    "with ProgressBar():\n",
    "    df_neg = df_neg.compute()\n",
    "    df_zero_fare = df_zero_fare.compute()\n",
    "gc.collect();"
   ]
  },
  {
   "cell_type": "markdown",
   "metadata": {},
   "source": [
    "* The payment type histogram shows that indeed most of these records are refunds, some of them due to disputes. \n",
    "\n",
    "* As plotted, most of these cases correspond to extremely short trips in time, in distance or both.\n",
    "\n",
    "* Note that longest of these trips cluster at day-long trips (1,400 minutes).\n",
    "\n",
    "* Around 20-30 of these trips may be actual trips with a correction on a given surcharge.\n",
    "\n",
    "* No further validation will be performed due to time constraints (for exaple, looking for explantory variables). "
   ]
  },
  {
   "cell_type": "code",
   "execution_count": 28,
   "metadata": {},
   "outputs": [],
   "source": [
    "df_neg_trip_duration = df_neg.tpep_dropoff_datetime - df_neg.tpep_pickup_datetime\n",
    "df_neg_trip_duration_mins = df_neg_trip_duration.dt.total_seconds()/60\n",
    "df_neg.insert(loc=3,\n",
    "              column='trip_duration_mins',\n",
    "              value=df_neg_trip_duration_mins)"
   ]
  },
  {
   "cell_type": "code",
   "execution_count": 29,
   "metadata": {},
   "outputs": [
    {
     "data": {
      "image/png": "[encoded data removed]",
      "text/plain": [
       "<Figure size 1080x360 with 3 Axes>"
      ]
     },
     "metadata": {},
     "output_type": "display_data"
    }
   ],
   "source": [
    "num_cols = 3\n",
    "num_rows = 1\n",
    "scale = 5\n",
    "figsize = (num_cols * scale, num_rows * scale)\n",
    "_, ax = plt.subplots(num_rows, num_cols, figsize=figsize)\n",
    "\n",
    "plt.suptitle('Trips with negtive charges', size=17);\n",
    "\n",
    "df_neg.payment_type.hist(ax=ax[0]);\n",
    "ax[0].set_title('Payment type');\n",
    "\n",
    "sns.scatterplot(data=df_neg,\n",
    "                x='trip_duration_mins',\n",
    "                y='trip_distance',\n",
    "                hue=df_neg.payment_type.tolist(),\n",
    "                legend='full',\n",
    "                palette='deep',\n",
    "                ax=ax[1]);\n",
    "ax[1].legend(loc='best', \n",
    "             title='payment_type')\n",
    "\n",
    "ax[1].set_title('Distance vs. time');\n",
    "\n",
    "sns.scatterplot(data=df_neg,\n",
    "                x='trip_duration_mins',\n",
    "                y='trip_distance',\n",
    "                hue=df_neg.payment_type.tolist(),\n",
    "                palette='deep',\n",
    "                ax = ax[2]);\n",
    "ax[2].legend(loc='best', \n",
    "             title='payment_type')\n",
    "ax[2].set_ylim(1.07)\n",
    "ax[2].set_xlim(0, 50)\n",
    "ax[2].set_title('Distance vs. time (zoomed)');"
   ]
  },
  {
   "cell_type": "markdown",
   "metadata": {},
   "source": [
    "### Zero fare amount\n",
    "\n",
    "* About a third of these instances do correspond to non-charged trips or trips with disputes.\n",
    "\n",
    "* The remaining cases could correspond to free trips or errors while recording them."
   ]
  },
  {
   "cell_type": "code",
   "execution_count": 30,
   "metadata": {},
   "outputs": [],
   "source": [
    "df_zero_fare_trip_duration = df_zero_fare.tpep_dropoff_datetime - df_zero_fare.tpep_pickup_datetime\n",
    "df_zero_fare_trip_duration_mins = df_zero_fare_trip_duration.dt.total_seconds()/60\n",
    "df_zero_fare.insert(loc=3,\n",
    "                    column='trip_duration_mins',\n",
    "                    value=df_zero_fare_trip_duration_mins)"
   ]
  },
  {
   "cell_type": "code",
   "execution_count": 31,
   "metadata": {},
   "outputs": [
    {
     "data": {
      "image/png": "[encoded data removed]",
      "text/plain": [
       "<Figure size 1080x360 with 3 Axes>"
      ]
     },
     "metadata": {},
     "output_type": "display_data"
    }
   ],
   "source": [
    "num_cols = 3\n",
    "num_rows = 1\n",
    "scale = 5\n",
    "figsize = (num_cols * scale, num_rows * scale)\n",
    "_, ax = plt.subplots(num_rows, num_cols, figsize=figsize)\n",
    "\n",
    "plt.suptitle('Zero fare amount trips', size=17);\n",
    "\n",
    "df_zero_fare.payment_type.hist(ax=ax[0]);\n",
    "ax[0].set_title('Payment type');\n",
    "\n",
    "sns.scatterplot(data=df_zero_fare,\n",
    "                x='trip_duration_mins',\n",
    "                y='trip_distance',\n",
    "                hue=df_zero_fare.payment_type.tolist(),\n",
    "                palette='deep',\n",
    "                ax=ax[1]);\n",
    "ax[1].legend(loc='best', \n",
    "             title='payment_type');\n",
    "ax[1].set_title('Distance vs. time');\n",
    "\n",
    "sns.scatterplot(data=df_zero_fare,\n",
    "                x='trip_duration_mins',\n",
    "                y='trip_distance',\n",
    "                hue=df_zero_fare.payment_type.tolist(),\n",
    "                palette='deep',\n",
    "                ax=ax[2]);\n",
    "ax[2].legend(loc='best', \n",
    "             title='payment_type');\n",
    "ax[2].set_ylim(1, 50)\n",
    "ax[2].set_xlim(1, 150)\n",
    "ax[2].set_title('Distance vs. time (zoomed)');"
   ]
  },
  {
   "cell_type": "markdown",
   "metadata": {},
   "source": [
    "* The vast majority of these trips do not include recorded tips.\n",
    "\n",
    "* Due to these imbalance, it might be better to plan for a separate analysis for these instances. "
   ]
  },
  {
   "cell_type": "code",
   "execution_count": 32,
   "metadata": {},
   "outputs": [
    {
     "data": {
      "image/png": "[encoded data removed]",
      "text/plain": [
       "<Figure size 720x360 with 2 Axes>"
      ]
     },
     "metadata": {},
     "output_type": "display_data"
    }
   ],
   "source": [
    "num_cols = 2\n",
    "num_rows = 1\n",
    "scale = 5\n",
    "figsize = (num_cols * scale, num_rows * scale)\n",
    "_, ax = plt.subplots(num_rows, num_cols, figsize=figsize)\n",
    "df_zero_fare.tip_amount.hist(bins=50, ax=ax[0]);\n",
    "ax[0].set_title('Trip amount histogram (zero fare trips)');\n",
    "df_zero_fare[df_zero_fare.tip_amount > 0].tip_amount.hist(bins=50, ax=ax[1]);\n",
    "ax[1].set_title('Non-zero trips histogram (zero fare trips)');"
   ]
  },
  {
   "cell_type": "code",
   "execution_count": 33,
   "metadata": {},
   "outputs": [],
   "source": [
    "del df_zero_fare, df_neg\n",
    "gc.collect();"
   ]
  },
  {
   "cell_type": "markdown",
   "metadata": {},
   "source": [
    "#  Exploration of date data"
   ]
  },
  {
   "cell_type": "code",
   "execution_count": 34,
   "metadata": {},
   "outputs": [
    {
     "data": {
      "text/plain": [
       "0   0 days 00:14:09\n",
       "1   0 days 00:11:01\n",
       "2   0 days 00:10:08\n",
       "3   0 days 08:10:06\n",
       "4   0 days 00:09:55\n",
       "dtype: timedelta64[ns]"
      ]
     },
     "execution_count": 34,
     "metadata": {},
     "output_type": "execute_result"
    }
   ],
   "source": [
    "(df[datetime_cols[1]] - df[datetime_cols[0]]).head()"
   ]
  },
  {
   "cell_type": "markdown",
   "metadata": {},
   "source": [
    "## Exploration of location data"
   ]
  },
  {
   "cell_type": "code",
   "execution_count": 20,
   "metadata": {},
   "outputs": [],
   "source": [
    "def get_lat_lon(sf):\n",
    "    content = []\n",
    "    for sr in sf.shapeRecords():\n",
    "        shape = sr.shape\n",
    "        rec = sr.record\n",
    "        loc_id = rec[shp_dic['LocationID']]\n",
    "        \n",
    "        x = (shape.bbox[0]+shape.bbox[2])/2\n",
    "        y = (shape.bbox[1]+shape.bbox[3])/2\n",
    "        \n",
    "        content.append((loc_id, x, y))\n",
    "    return pd.DataFrame(content, columns=[\"LocationID\", \"longitude\", \"latitude\"])"
   ]
  },
  {
   "cell_type": "code",
   "execution_count": 21,
   "metadata": {},
   "outputs": [
    {
     "data": {
      "text/html": [
       "<div>\n",
       "<style scoped>\n",
       "    .dataframe tbody tr th:only-of-type {\n",
       "        vertical-align: middle;\n",
       "    }\n",
       "\n",
       "    .dataframe tbody tr th {\n",
       "        vertical-align: top;\n",
       "    }\n",
       "\n",
       "    .dataframe thead th {\n",
       "        text-align: right;\n",
       "    }\n",
       "</style>\n",
       "<table border=\"1\" class=\"dataframe\">\n",
       "  <thead>\n",
       "    <tr style=\"text-align: right;\">\n",
       "      <th></th>\n",
       "      <th>OBJECTID</th>\n",
       "      <th>Shape_Leng</th>\n",
       "      <th>Shape_Area</th>\n",
       "      <th>zone</th>\n",
       "      <th>LocationID</th>\n",
       "      <th>borough</th>\n",
       "      <th>longitude</th>\n",
       "      <th>latitude</th>\n",
       "    </tr>\n",
       "  </thead>\n",
       "  <tbody>\n",
       "    <tr>\n",
       "      <th>0</th>\n",
       "      <td>1</td>\n",
       "      <td>0.116357</td>\n",
       "      <td>0.000782</td>\n",
       "      <td>Newark Airport</td>\n",
       "      <td>1</td>\n",
       "      <td>EWR</td>\n",
       "      <td>9.366817e+05</td>\n",
       "      <td>190522.130278</td>\n",
       "    </tr>\n",
       "    <tr>\n",
       "      <th>1</th>\n",
       "      <td>2</td>\n",
       "      <td>0.433470</td>\n",
       "      <td>0.004866</td>\n",
       "      <td>Jamaica Bay</td>\n",
       "      <td>2</td>\n",
       "      <td>Queens</td>\n",
       "      <td>1.033536e+06</td>\n",
       "      <td>161853.982300</td>\n",
       "    </tr>\n",
       "    <tr>\n",
       "      <th>2</th>\n",
       "      <td>3</td>\n",
       "      <td>0.084341</td>\n",
       "      <td>0.000314</td>\n",
       "      <td>Allerton/Pelham Gardens</td>\n",
       "      <td>3</td>\n",
       "      <td>Bronx</td>\n",
       "      <td>1.027136e+06</td>\n",
       "      <td>254730.010849</td>\n",
       "    </tr>\n",
       "    <tr>\n",
       "      <th>3</th>\n",
       "      <td>4</td>\n",
       "      <td>0.043567</td>\n",
       "      <td>0.000112</td>\n",
       "      <td>Alphabet City</td>\n",
       "      <td>4</td>\n",
       "      <td>Manhattan</td>\n",
       "      <td>9.904240e+05</td>\n",
       "      <td>203100.040432</td>\n",
       "    </tr>\n",
       "    <tr>\n",
       "      <th>4</th>\n",
       "      <td>5</td>\n",
       "      <td>0.092146</td>\n",
       "      <td>0.000498</td>\n",
       "      <td>Arden Heights</td>\n",
       "      <td>5</td>\n",
       "      <td>Staten Island</td>\n",
       "      <td>9.321332e+05</td>\n",
       "      <td>139954.541936</td>\n",
       "    </tr>\n",
       "  </tbody>\n",
       "</table>\n",
       "</div>"
      ],
      "text/plain": [
       "   OBJECTID  Shape_Leng  Shape_Area                     zone  LocationID  \\\n",
       "0         1    0.116357    0.000782           Newark Airport           1   \n",
       "1         2    0.433470    0.004866              Jamaica Bay           2   \n",
       "2         3    0.084341    0.000314  Allerton/Pelham Gardens           3   \n",
       "3         4    0.043567    0.000112            Alphabet City           4   \n",
       "4         5    0.092146    0.000498            Arden Heights           5   \n",
       "\n",
       "         borough     longitude       latitude  \n",
       "0            EWR  9.366817e+05  190522.130278  \n",
       "1         Queens  1.033536e+06  161853.982300  \n",
       "2          Bronx  1.027136e+06  254730.010849  \n",
       "3      Manhattan  9.904240e+05  203100.040432  \n",
       "4  Staten Island  9.321332e+05  139954.541936  "
      ]
     },
     "execution_count": 21,
     "metadata": {},
     "output_type": "execute_result"
    }
   ],
   "source": [
    "sf = shapefile.Reader(str(DATA_DIR / 'taxi_zones.shp'))\n",
    "fields_name = [field[0] for field in sf.fields[1:]]\n",
    "shp_dic = dict(zip(fields_name, list(range(len(fields_name)))))\n",
    "attributes = sf.records()\n",
    "shp_attr = [dict(zip(fields_name, attr)) for attr in attributes]\n",
    "\n",
    "df_loc = pd.DataFrame(shp_attr).join(get_lat_lon(sf).set_index(\"LocationID\"), on=\"LocationID\")\n",
    "df_loc.head()"
   ]
  },
  {
   "cell_type": "markdown",
   "metadata": {},
   "source": [
    "## Data Science Take Home Test\n",
    "Every month New York City releases data about trips taken in NYC taxis. This data can be found here: (NYC Taxi & Limousine Commission - Trip Record Data) and is described by the data dictionary (https://www1.nyc.gov/assets/tlc/downloads/pdf/data_dictionary_trip_records_yellow.pdf)\n",
    "\n",
    "A new ride sharing company is your client. They are looking to start up a rival service to Uber or Lyft in NYC and are interested in using the Taxi Data to get insight into the transportation sector in New York. They have tasked you to get to know the data and start to build some simple models off of it.\n",
    "\n",
    "In the following tasks, you should focus on yellow cab data from the months of March, June, and November in 2017. Feel free to use more than that, but those months should be the minimum.\n",
    "\n",
    "Feel free to use any programming language and libraries of your choosing. Results should be delivered as a either a GitHub repo with the code and results (preferred), a zipped directory of code and results, or Colab Notebook(s). Note: If you post your work online, please ensure there are no references to CARTO or links to this homework.\n",
    "\n",
    "You should spend approximately 4 hours on these tasks. Try to document your thought process as much as possible.\n",
    "\n",
    "You have three tasks:\n",
    "\n",
    "### Data exploration and cleaning\n",
    "\n",
    "* Download and assess the data\n",
    "* Identify and document any issues with the data\n",
    "* Document how you resolved these issues\n",
    "\n",
    "### Data Summary\n",
    "\n",
    "Create a brief report that summarizes the core features of the data and calls out interesting trends, etc. This can be in the form of a notebook-like document (Jupyter, RMarkdown, etc.) or a slide deck. The audience for this should be other data scientists who need to understand that dataset.\n",
    "\n",
    "### Model Building\n",
    "\n",
    "The client is launching a new ride sharing program in New York similar to Uber or Lyft. At the end of each trip they want their app to suggest a tip amount to the rider. The company has not acquired any of their own data yet, so they have tasked you with producing a model based off of the taxi data. This model should predict the likely tip amount for a trip based on the other trip attributes. You can assume that the ride sharing company can provide data that has the same attributes as the taxi data for each trip.\n",
    "\n",
    "In building the model, consider the following requirements:\n",
    "\n",
    "* The model should be built from the taxi dataset. You can supplement the taxi data with external datasets, but this is not a requirement.\n",
    "* Document your choice of model / algorithm, discussing why you chose it over alternatives.\n",
    "    * Document how you assess your models performance.\n",
    "    * Discuss any limitations or caveats of the model which might be an issue in implementing it.\n",
    "    * Discuss how you might improve your model going forward.\n",
    "* Discuss how you might turn this model in to an API the company can use.\n"
   ]
  }
 ],
 "metadata": {
  "kernelspec": {
   "display_name": "deeplrn",
   "language": "python",
   "name": "deeplrn"
  },
  "language_info": {
   "codemirror_mode": {
    "name": "ipython",
    "version": 3
   },
   "file_extension": ".py",
   "mimetype": "text/x-python",
   "name": "python",
   "nbconvert_exporter": "python",
   "pygments_lexer": "ipython3",
   "version": "3.7.9"
  }
 },
 "nbformat": 4,
 "nbformat_minor": 4
}
